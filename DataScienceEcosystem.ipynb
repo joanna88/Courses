{
 "cells": [
  {
   "cell_type": "markdown",
   "id": "309bea62-0ddd-4963-ab5e-62e00cc4ffcd",
   "metadata": {},
   "source": [
    "<center>\n",
    "    <img src=\"https://cf-courses-data.s3.us.cloud-object-storage.appdomain.cloud/IBMDeveloperSkillsNetwork-DS0105EN-SkillsNetwork/labs/Module2/images/SN_web_lightmode.png\" width=\"300\" alt=\"cognitiveclass.ai logo\">\n",
    "</center>\n"
   ]
  },
  {
   "cell_type": "markdown",
   "id": "c012436d-ac2e-4545-af70-c6f3878d5dc8",
   "metadata": {},
   "source": [
    "#### Add your code below following the instructions given in the course\n"
   ]
  },
  {
   "cell_type": "markdown",
   "id": "981f8da5-fe92-4498-9d38-3dd6ba309874",
   "metadata": {},
   "source": [
    "# Data Science Tools and Ecosystem"
   ]
  },
  {
   "cell_type": "markdown",
   "id": "a529b006-452e-455e-8ba2-455bcbb16a6b",
   "metadata": {},
   "source": [
    "In this notebook, Data Science Tools and Ecosystem are summarized."
   ]
  },
  {
   "cell_type": "markdown",
   "id": "1e4c7122-3c50-459f-b110-6d2a1a128f51",
   "metadata": {},
   "source": [
    "**Objectives:**\n",
    "- List popular languages for Data Science\n",
    "- List of commonly used libraries in Data Science\n",
    "- Table of data Science Tools\n",
    "- Evaluation of arithmetic expressions in Python"
   ]
  },
  {
   "cell_type": "markdown",
   "id": "f4486389-e347-4294-9436-5e3d5b602f86",
   "metadata": {},
   "source": [
    "Some of the popular languages that Data Scientists use are:\n",
    "1. R\n",
    "2. Python\n",
    "3. SQL"
   ]
  },
  {
   "cell_type": "markdown",
   "id": "b7c1b56d-e3e6-4e24-bf07-d0364f3d2e9d",
   "metadata": {},
   "source": [
    "Some of the commonly used libraries used by Data Scientists include:\n",
    "1. NumPy\n",
    "2. Pandas\n",
    "3. Matplotlib\n",
    "4. Seaborn"
   ]
  },
  {
   "cell_type": "markdown",
   "id": "142f693f-6bbe-416f-8870-fb8942f50570",
   "metadata": {},
   "source": [
    "| Data Science Tools   | \n",
    "| -------- | \n",
    "| Jupyter Notebook | \n",
    "| VS Code |\n",
    "| Spyder | "
   ]
  },
  {
   "cell_type": "markdown",
   "id": "b2f6cdee-ca1c-4f2f-94e4-243b13c6bd78",
   "metadata": {},
   "source": [
    "### Below are a few examples of evaluating arithmetic expressions in Python"
   ]
  },
  {
   "cell_type": "code",
   "execution_count": 3,
   "id": "1d5d4ff3-5dfe-40a3-b0ec-d5aa746cac80",
   "metadata": {},
   "outputs": [
    {
     "data": {
      "text/plain": [
       "17"
      ]
     },
     "execution_count": 3,
     "metadata": {},
     "output_type": "execute_result"
    }
   ],
   "source": [
    "# This a simple arithmetic expression to mutiply then add integers\n",
    "(3*4)+5"
   ]
  },
  {
   "cell_type": "code",
   "execution_count": 4,
   "id": "732dc297-098d-4199-80d5-c5107002c2f0",
   "metadata": {},
   "outputs": [
    {
     "data": {
      "text/plain": [
       "3.3333333333333335"
      ]
     },
     "execution_count": 4,
     "metadata": {},
     "output_type": "execute_result"
    }
   ],
   "source": [
    "# This will convert 200 minutes to hours by diving by 60\n",
    "200 / 60"
   ]
  },
  {
   "cell_type": "markdown",
   "id": "cf714c23-27d7-4c90-a263-7153567b8bcf",
   "metadata": {},
   "source": [
    "## Author\n",
    "Joanna Żarnecka"
   ]
  },
  {
   "cell_type": "code",
   "execution_count": null,
   "id": "22b22ce6-7d4b-428f-b518-8364ba4659ef",
   "metadata": {},
   "outputs": [],
   "source": []
  }
 ],
 "metadata": {
  "kernelspec": {
   "display_name": "Python 3 (ipykernel)",
   "language": "python",
   "name": "python3"
  },
  "language_info": {
   "codemirror_mode": {
    "name": "ipython",
    "version": 3
   },
   "file_extension": ".py",
   "mimetype": "text/x-python",
   "name": "python",
   "nbconvert_exporter": "python",
   "pygments_lexer": "ipython3",
   "version": "3.12.8"
  }
 },
 "nbformat": 4,
 "nbformat_minor": 5
}
